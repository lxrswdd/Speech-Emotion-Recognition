{
 "cells": [
  {
   "cell_type": "code",
   "execution_count": 11,
   "metadata": {},
   "outputs": [],
   "source": [
    "import wave\n",
    "import contextlib\n",
    "from os import listdir\n",
    "from os.path import isfile, join\n",
    "import matplotlib.pyplot as plt"
   ]
  },
  {
   "cell_type": "code",
   "execution_count": 7,
   "metadata": {},
   "outputs": [
    {
     "data": {
      "text/plain": [
       "655"
      ]
     },
     "execution_count": 7,
     "metadata": {},
     "output_type": "execute_result"
    }
   ],
   "source": [
    "files_angry = [f for f in listdir('/home/test/Speech/Wang/dataset/Trainingsets/angry') if isfile(join('/home/test/Speech/Wang/dataset/Trainingsets/angry', f))]\n",
    "files_angry = ['/home/test/Speech/Wang/dataset/Trainingsets/angry/'+x for x in files_angry]\n",
    "files_happy = [f for f in listdir('/home/test/Speech/Wang/dataset/Trainingsets/happy') if isfile(join('/home/test/Speech/Wang/dataset/Trainingsets/happy', f))]\n",
    "files_happy = ['/home/test/Speech/Wang/dataset/Trainingsets/happy/'+x for x in files_happy]\n",
    "combined_directory = files_angry+files_happy\n",
    "len(combined_directory)"
   ]
  },
  {
   "cell_type": "code",
   "execution_count": 8,
   "metadata": {},
   "outputs": [],
   "source": [
    "fname = '/home/test/Speech/Wang/dataset/testsets/angry/0_002_00_001_F001_d.wav'\n",
    "audio_length = []\n",
    "for i in combined_directory:\n",
    "    with contextlib.closing(wave.open(i,'r')) as f:\n",
    "        frames = f.getnframes()\n",
    "        rate = f.getframerate()\n",
    "        duration = frames / float(rate)\n",
    "        audio_length.append(duration)"
   ]
  },
  {
   "cell_type": "code",
   "execution_count": 9,
   "metadata": {},
   "outputs": [
    {
     "data": {
      "text/plain": [
       "655"
      ]
     },
     "execution_count": 9,
     "metadata": {},
     "output_type": "execute_result"
    }
   ],
   "source": [
    "len(audio_length)"
   ]
  },
  {
   "cell_type": "code",
   "execution_count": 12,
   "metadata": {},
   "outputs": [
    {
     "data": {
      "text/plain": [
       "{'whiskers': [<matplotlib.lines.Line2D at 0x7fea60b47048>,\n",
       "  <matplotlib.lines.Line2D at 0x7fea60b47390>],\n",
       " 'caps': [<matplotlib.lines.Line2D at 0x7fea60b476d8>,\n",
       "  <matplotlib.lines.Line2D at 0x7fea60b47a20>],\n",
       " 'boxes': [<matplotlib.lines.Line2D at 0x7fea60b31c18>],\n",
       " 'medians': [<matplotlib.lines.Line2D at 0x7fea60b47d68>],\n",
       " 'fliers': [<matplotlib.lines.Line2D at 0x7fea60b5b0f0>],\n",
       " 'means': []}"
      ]
     },
     "execution_count": 12,
     "metadata": {},
     "output_type": "execute_result"
    },
    {
     "data": {
      "image/png": "[encoded data removed]",
      "text/plain": [
       "<Figure size 432x288 with 1 Axes>"
      ]
     },
     "metadata": {
      "needs_background": "light"
     },
     "output_type": "display_data"
    }
   ],
   "source": [
    "plt.boxplot(audio_length)"
   ]
  },
  {
   "cell_type": "code",
   "execution_count": 15,
   "metadata": {},
   "outputs": [
    {
     "data": {
      "text/plain": [
       "(array([ 5.,  4., 17., 13., 14., 19., 18., 25., 22., 30., 38., 26., 22.,\n",
       "        34., 26., 29., 20., 23., 26., 22., 22., 14., 24., 10., 14.,  8.,\n",
       "        12., 15.,  5.,  7.,  4.,  6.,  3.,  6.,  2.,  6.,  6.,  4.,  4.,\n",
       "         5., 10.,  2.,  5.,  3.,  4.,  3.,  1.,  1.,  1.,  2.,  3.,  0.,\n",
       "         0.,  0.,  1.,  0.,  0.,  0.,  1.,  2.,  1.,  0.,  0.,  1.,  0.,\n",
       "         1.,  0.,  0.,  0.,  0.,  0.,  0.,  0.,  0.,  0.,  0.,  0.,  0.,\n",
       "         0.,  0.,  0.,  0.,  0.,  0.,  0.,  0.,  1.,  0.,  0.,  0.,  0.,\n",
       "         0.,  0.,  0.,  1.,  0.,  0.,  0.,  0.,  1.]),\n",
       " array([ 0.391875  ,  0.57133584,  0.75079668,  0.93025753,  1.10971837,\n",
       "         1.28917921,  1.46864005,  1.64810089,  1.82756173,  2.00702258,\n",
       "         2.18648342,  2.36594426,  2.5454051 ,  2.72486594,  2.90432679,\n",
       "         3.08378763,  3.26324847,  3.44270931,  3.62217015,  3.80163099,\n",
       "         3.98109184,  4.16055268,  4.34001352,  4.51947436,  4.6989352 ,\n",
       "         4.87839605,  5.05785689,  5.23731773,  5.41677857,  5.59623941,\n",
       "         5.77570026,  5.9551611 ,  6.13462194,  6.31408278,  6.49354362,\n",
       "         6.67300446,  6.85246531,  7.03192615,  7.21138699,  7.39084783,\n",
       "         7.57030867,  7.74976952,  7.92923036,  8.1086912 ,  8.28815204,\n",
       "         8.46761288,  8.64707372,  8.82653457,  9.00599541,  9.18545625,\n",
       "         9.36491709,  9.54437793,  9.72383878,  9.90329962, 10.08276046,\n",
       "        10.2622213 , 10.44168214, 10.62114298, 10.80060383, 10.98006467,\n",
       "        11.15952551, 11.33898635, 11.51844719, 11.69790804, 11.87736888,\n",
       "        12.05682972, 12.23629056, 12.4157514 , 12.59521224, 12.77467309,\n",
       "        12.95413393, 13.13359477, 13.31305561, 13.49251645, 13.6719773 ,\n",
       "        13.85143814, 14.03089898, 14.21035982, 14.38982066, 14.56928151,\n",
       "        14.74874235, 14.92820319, 15.10766403, 15.28712487, 15.46658571,\n",
       "        15.64604656, 15.8255074 , 16.00496824, 16.18442908, 16.36388992,\n",
       "        16.54335077, 16.72281161, 16.90227245, 17.08173329, 17.26119413,\n",
       "        17.44065497, 17.62011582, 17.79957666, 17.9790375 , 18.15849834,\n",
       "        18.33795918]),\n",
       " <a list of 100 Patch objects>)"
      ]
     },
     "execution_count": 15,
     "metadata": {},
     "output_type": "execute_result"
    },
    {
     "data": {
      "image/png": "[encoded data removed]",
      "text/plain": [
       "<Figure size 432x288 with 1 Axes>"
      ]
     },
     "metadata": {
      "needs_background": "light"
     },
     "output_type": "display_data"
    }
   ],
   "source": [
    "plt.hist(audio_length,bins=100)"
   ]
  },
  {
   "cell_type": "code",
   "execution_count": null,
   "metadata": {},
   "outputs": [],
   "source": []
  }
 ],
 "metadata": {
  "kernelspec": {
   "display_name": "Python 3",
   "language": "python",
   "name": "python3"
  },
  "language_info": {
   "codemirror_mode": {
    "name": "ipython",
    "version": 3
   },
   "file_extension": ".py",
   "mimetype": "text/x-python",
   "name": "python",
   "nbconvert_exporter": "python",
   "pygments_lexer": "ipython3",
   "version": "3.6.12"
  }
 },
 "nbformat": 4,
 "nbformat_minor": 4
}
